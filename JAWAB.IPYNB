{
 "cells": [
  {
   "cell_type": "markdown",
   "metadata": {},
   "source": [
    " Buatlah sebuah program yang dapat membandingkan 2 buah file teks dan kemudian\n",
    "menampilkan perbedaan antar kedua teks per barisnya jika ada perbedaaan! "
   ]
  },
  {
   "cell_type": "code",
   "execution_count": 8,
   "metadata": {},
   "outputs": [],
   "source": [
    "def compare_files(file1, file2):\n",
    "    with open(file1) as f1, open(file2) as f2:\n",
    "        for i, (line1, line2) in enumerate(zip(f1, f2), 1):\n",
    "            if line1 != line2:\n",
    "                print(f\"Ditemukan perbedaan pada baris {i}:\")\n",
    "                print(f\"File 1: {line1.strip()}\")\n",
    "                print(f\"File 2: {line2.strip()}\")\n",
    "                print()\n",
    "\n",
    "if __name__ == \"__main__\":\n",
    "    compare_files(\"file1.txt\", \"file2.txt\")\n"
   ]
  },
  {
   "cell_type": "markdown",
   "metadata": {},
   "source": [
    "Buatlah sebuah program untuk menampilkan soal sederhana yang diambil dari file\n",
    "teks soal.txt yang memiliki format sebagai berikut:\n",
    "1+1 = || 2\n",
    "Bendera Indonesia? || Merah Putih\n",
    "Kota gudeg adalah: || Yogyakarta\n",
    "Komponen PC untuk penyimpanan file adalah... || harddisk\n",
    "50 * 20 = || 1000\n",
    "Dari soal tersebut tampilkan sbb:\n",
    "nama file1: soal.txt\n",
    "1+1 =\n",
    "Jawab: 2\n",
    "Jawaban benar!\n",
    "Bendera Indonesia?\n",
    "Jawab: merah putih\n",
    "Jawaban benar!\n",
    "Kota gudeg adalah:\n",
    "Jawab: yogya\n",
    "Jawaban salah!\n",
    "Komponen PC untuk penyimpanan file adalah...\n",
    "Jawab: HARDDISK\n",
    "Jawaban benar!"
   ]
  },
  {
   "cell_type": "code",
   "execution_count": 2,
   "metadata": {},
   "outputs": [
    {
     "name": "stdout",
     "output_type": "stream",
     "text": [
      "Nama file: soal.txt\n"
     ]
    }
   ],
   "source": [
    "def main():\n",
    "    with open(\"soal.txt\", \"r\") as file:\n",
    "        lines = file.readlines()\n",
    "\n",
    "    print(\"Nama file: soal.txt\")\n",
    "\n",
    "    for line in lines:\n",
    "        question, answer = line.strip().split(\"||\")\n",
    "        print(question.strip())\n",
    "        user_answer = input(\"Jawab: \").strip()\n",
    "        if user_answer.lower() == answer.strip().lower():\n",
    "            print(\"Jawaban benar!\")\n",
    "        else:\n",
    "            print(\"Jawaban salah!\")\n",
    "        print() \n",
    "\n",
    "if __name__ == \"__main__\":\n",
    "    main()\n"
   ]
  }
 ],
 "metadata": {
  "kernelspec": {
   "display_name": "Python 3",
   "language": "python",
   "name": "python3"
  },
  "language_info": {
   "codemirror_mode": {
    "name": "ipython",
    "version": 3
   },
   "file_extension": ".py",
   "mimetype": "text/x-python",
   "name": "python",
   "nbconvert_exporter": "python",
   "pygments_lexer": "ipython3",
   "version": "3.12.0"
  }
 },
 "nbformat": 4,
 "nbformat_minor": 2
}
